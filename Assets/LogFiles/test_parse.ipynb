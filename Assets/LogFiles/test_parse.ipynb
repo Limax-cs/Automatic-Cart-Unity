{
 "cells": [
  {
   "cell_type": "code",
   "execution_count": 226,
   "metadata": {},
   "outputs": [
    {
     "name": "stderr",
     "output_type": "stream",
     "text": [
      "100%|██████████| 13/13 [01:26<00:00,  6.65s/it]\n"
     ]
    }
   ],
   "source": [
    "import pandas as pd\n",
    "from io import StringIO\n",
    "import re\n",
    "import numpy as np\n",
    "import sys\n",
    "sys.path.append('C:/Users/aurel/Downloads/HS23/CIR/Automatic-Cart-Unity/Assets/Code/Application/ImageToGraph')\n",
    "from utils import *\n",
    "pd.set_option('mode.chained_assignment', None)\n",
    "from PIL import Image\n",
    "import os\n",
    "import glob\n",
    "from tqdm import tqdm\n",
    "import networkx as nx\n",
    "\n",
    "def elaborate_test(filepath_log:str, filpath_App:str, data_dict:dict, user_id:str, first_test:bool):\n",
    "\n",
    "    data_dict['user_id'].append(user_id)\n",
    "\n",
    "    with open(filpath_App, 'r') as file:  \n",
    "        data = file.read()\n",
    "\n",
    "    # Read data into a DataFrame\n",
    "    df_app = pd.read_csv(StringIO(data), sep=' - ', header=None, engine='python')\n",
    "    df_app.columns = ['Timestamp', 'Data']\n",
    "\n",
    "    df_app['Timestamp'] = pd.to_datetime(df_app['Timestamp'], format='%d/%m/%Y_%H:%M:%S')\n",
    "\n",
    "    #Time when world was created\n",
    "    world_init = df_app.loc[df_app['Data'].str.contains('World Init')]['Timestamp'].max()\n",
    "    data_dict['world_init'].append(world_init)\n",
    "\n",
    "    #Get the line where the partecipants submits the food\n",
    "    max_idx = df_app.loc[df_app['Data'].str.contains('Previous')].index.min()-1 \n",
    "\n",
    "    #When the items where sent to unity\n",
    "    items_submission = df_app.iloc[max_idx]['Timestamp']\n",
    "    data_dict['items_submission'].append(items_submission)\n",
    "    items_data = df_app.iloc[max_idx]['Data']\n",
    "    match = re.search(r'products:(.*?)(?=\\|)', items_data)\n",
    "    products_string = match.group(1)\n",
    "    products_list = products_string.split('&')\n",
    "    data_dict['products_list'].append(products_list)\n",
    "    data_dict['num_items'].append(len(products_list))\n",
    "\n",
    "    string = df_app.loc[df_app['Data'].str.contains('mode')].iloc[0]['Data']\n",
    "    test_mode = re.search(r'mode:([^|]+)', string).group(1)\n",
    "    data_dict['test_mode'].append(test_mode)\n",
    "\n",
    "    #-----------------------------------------------------------Elaborate Log file\n",
    "\n",
    "    with open(filepath_log, 'r') as file:\n",
    "        data = file.read()\n",
    "\n",
    "    # Read data into a DataFrame\n",
    "    df = pd.read_csv(StringIO(data), sep=' - ', header=None, engine='python')\n",
    "    df.columns = ['Timestamp', 'Data']\n",
    "    df['Timestamp'] = pd.to_datetime(df['Timestamp'], format='%d/%m/%Y_%H:%M:%S')\n",
    "\n",
    "    # Split data into different categories\n",
    "    lidar_df = df[df['Data'].str.startswith('Lidar data')].reset_index(drop=True)\n",
    "    user_df = df[df['Data'].str.startswith('User data')].reset_index(drop=True)\n",
    "    product_df = df[df['Data'].str.startswith('Product data')].reset_index(drop=True)\n",
    "    robot_df = df[df['Data'].str.startswith('Robot data')].reset_index(drop=True)\n",
    "    path_df = df[df['Data'].str.startswith('Path data')].reset_index(drop=True)\n",
    "\n",
    "    dataframes = [lidar_df,user_df,product_df,robot_df,path_df]\n",
    "\n",
    "    for df in dataframes:\n",
    "        columns = re.findall(r'\\|([^:]+):', df.iloc[0,1])\n",
    "        columns.insert(0,'to_drop') \n",
    "        df[columns] = df['Data'].apply(lambda x: re.sub(r'\\|.*?:', '|', x).strip('|')).str.split('|', expand=True)  \n",
    "        df.drop(columns=['to_drop','Data'],inplace=True)\n",
    "\n",
    "    \n",
    "    bool_cols = ['userInPath', 'sthBack','detect1', 'detect2', 'detect3', 'detect4', 'detect5','detect1b', 'detect2b', 'detect3b', 'detect4b', 'detect5b']\n",
    "    lidar_df[bool_cols] = lidar_df[bool_cols].replace({'True': True, 'False': False})\n",
    "\n",
    "\n",
    "    float32_columns_user = ['userSpeed', 'userRotX', 'userRotY', 'userRotZ', 'userRotW', 'userLocX', 'userLocY', 'userLocZ']\n",
    "    user_df[float32_columns_user] = user_df[float32_columns_user].replace(',', '.', regex=True).astype('float32')\n",
    "\n",
    "    float32_columns_robot = ['robotOrientationX', 'robotOrientationY', 'robotOrientationZ', \n",
    "                            'robotLocX', 'robotLocY', 'robotLocZ', 'linearVel', 'angularVel']\n",
    "    robot_df[float32_columns_robot] = robot_df[float32_columns_robot].replace(',', '.', regex=True).astype('float32')\n",
    "    robot_df['grounded'] = robot_df['grounded'].replace({'True': True, 'False': False})\n",
    "\n",
    "    product_df[['Count', 'CollCount']] = product_df[['Count', 'CollCount']].astype('int8')\n",
    "\n",
    "    #Get the ideal length (if partecipant didn't go to the end then remove that from the distance)\n",
    "    _,coordinates,ideal_lenght = hamiltonian_path(graph, products_list)\n",
    "    final_pos = user_df.iloc[-1]\n",
    "    if (final_pos['userLocX']-57.1338)**2 + (final_pos['userLocZ']-14.55)**2 > 3:\n",
    "        ideal_length = ideal_lenght - nx.dijkstra_path_length(graph, coordinates[-1], coordinates[-2], weight='weight')\n",
    "    data_dict['ideal_lenght'].append(ideal_lenght)\n",
    "\n",
    "\n",
    "    #Distance walked by the user\n",
    "    distance_walked_user = np.sqrt((user_df['userLocX'].diff())**2 + (user_df['userLocZ'].diff())**2).sum()/1.2\n",
    "    data_dict['distance_walked_user'].append(distance_walked_user)\n",
    "\n",
    "    #Timestamp of when last item is collected\n",
    "    timestamp_last_item = product_df.loc[product_df['CollCount']==product_df['CollCount'].max()]['Timestamp'].min()\n",
    "    data_dict['timestamp_last_item'].append(timestamp_last_item)  \n",
    "\n",
    "    #Check if all items where collected\n",
    "    data_dict['collected_all'].append(product_df['CollCount'].max()==len(products_list)) \n",
    "\n",
    "    #Timestamp of first movement (Start from when at least one unit away from the starting positions)\n",
    "    timestamp_first_movement = user_df.loc[(user_df['userLocX']-50.63)**2 + (user_df['userLocZ']-11.73)**2 > 1]['Timestamp'].min()\n",
    "    data_dict['timestamp_first_movement'].append(timestamp_first_movement) \n",
    "\n",
    "    if first_test:\n",
    "        #Add how much the cart traveled\n",
    "        distance_traveled_cart = np.sqrt((robot_df['robotLocX'].diff())**2 + (robot_df['robotLocZ'].diff())**2).sum()/1.2\n",
    "        data_dict['distance_traveled_cart'].append(distance_traveled_cart) \n",
    "\n",
    "        #How many collisions where detected\n",
    "        collision_amount = lidar_df.drop(columns='Timestamp').sum().sum()\n",
    "        data_dict['collision_amount'].append(collision_amount) \n",
    "\n",
    "        num_interactions = len(df_app.loc[df_app['Data'].str.contains('Next Item') | df_app['Data'].str.contains('FollowMe') | df_app['Data'].str.contains('Pause')])\n",
    "        data_dict['num_interactions'].append(num_interactions)\n",
    "        \n",
    "\n",
    "    \"\"\"\n",
    "    Relevant informations (Two different CSV for before and after):\n",
    "    Testing Mode\n",
    "    User_Id \n",
    "    Time of the first movement (Maybe consider out of some bound)\n",
    "    Time of the last item to be collected\n",
    "    (- Time to collect all the items/the number of items)\n",
    "    List of items selected\n",
    "    Time when the person finished to select the items\n",
    "    (- How much time it took to select the items/the number of items)\n",
    "    Time when the map was selected\n",
    "    How long did the person walk\n",
    "    - Ideal length of path\n",
    "    ------------ (For second test)\n",
    "    Robot Collisions\n",
    "    How many interactions with the robot (vs. items)\n",
    "    How much did the robot travel\n",
    "    \"\"\"\n",
    "\n",
    "dir = 'C:/Users/aurel/Downloads/HS23/CIR/Automatic-Cart-Unity/Assets/Code/Application/ImageToGraph/'\n",
    "imagedir = dir+'Model3.png'\n",
    "image = np.array(Image.open(imagedir).convert('RGB')) #Remember that it reads row by row\n",
    "image = image[10:210,10:210,:] #Keep only the superkarmet plan inside the frame  C:\\Users\\aurel\\Downloads\\HS23\\CIR\\ImageToGraph\\Model3.png\n",
    "graph = create_graph(image)\n",
    "\n",
    "\n",
    "first_dict = {'user_id': [], 'world_init': [], 'items_submission': [], 'products_list': [], 'test_mode': [],\n",
    "              'distance_walked_user': [],'timestamp_last_item': [], 'timestamp_first_movement': [],\n",
    "              'ideal_lenght': [], 'collected_all': [], 'num_items': []} \n",
    "\n",
    "second_dict = {'user_id': [], 'world_init': [], 'items_submission': [], 'products_list': [], 'test_mode': [],\n",
    "              'distance_walked_user': [],'timestamp_last_item': [], 'timestamp_first_movement': [],\n",
    "              'ideal_lenght': [], 'distance_traveled_cart': [], 'collision_amount': [], 'num_interactions': [],\n",
    "              'collected_all': [], 'num_items': []} \n",
    "\n",
    "\n",
    "# Get the current directory\n",
    "current_directory = os.getcwd()\n",
    "\n",
    "# List all folders in the current directory starting with 'test'\n",
    "partecipants_folders = [os.path.join(current_directory, folder) for folder in os.listdir(current_directory) if os.path.isdir(os.path.join(current_directory, folder)) and folder.startswith('test')]\n",
    "\n",
    "\n",
    "for partecipant in tqdm(partecipants_folders):\n",
    "    partecipant_id = partecipant.split('\\\\')[-1].strip('test ')\n",
    "\n",
    "    #Weird formatting of this \n",
    "    if partecipant_id == 'AC2':\n",
    "        continue\n",
    "\n",
    "    # Get all txt files inside the folder\n",
    "    txt_files = glob.glob(os.path.join(partecipant, '*.txt'))\n",
    "    elaborate_test(txt_files[2], txt_files[0], first_dict, partecipant_id, False)\n",
    "    elaborate_test(txt_files[3], txt_files[1], second_dict, partecipant_id, True) "
   ]
  },
  {
   "cell_type": "code",
   "execution_count": 227,
   "metadata": {},
   "outputs": [],
   "source": [
    "first_run = pd.DataFrame(first_dict)\n",
    "second_run = pd.DataFrame(second_dict)\n",
    "\n",
    "for df in [first_run,second_run]:\n",
    "    df['adjusted_time_shopping'] = (df['timestamp_last_item'] - df['timestamp_first_movement']).dt.total_seconds()/df['ideal_lenght']\n",
    "    df['seconds/item_list'] = (df['items_submission'] - df['world_init']).dt.total_seconds()/df['num_items']\n",
    "    df['travel_efficiency'] = df['distance_walked_user']/df['ideal_lenght']\n",
    "\n",
    "second_run['cart_travel_efficiency'] = second_run['distance_traveled_cart']/df['ideal_lenght']\n",
    "\n",
    "first_run.to_csv('first_runs.csv', index=False)\n",
    "second_run.to_csv('second_runs.csv', index=False)"
   ]
  },
  {
   "cell_type": "markdown",
   "metadata": {},
   "source": [
    "Data Analysis"
   ]
  },
  {
   "cell_type": "code",
   "execution_count": 247,
   "metadata": {},
   "outputs": [
    {
     "name": "stdout",
     "output_type": "stream",
     "text": [
      "    speedups user_id test_mode                     bin\n",
      "0   3.667331     AC1         A               2x faster\n",
      "1   1.446306     AC3         A             1.5x faster\n",
      "2   2.151583     AC4         A               2x faster\n",
      "3   2.003713     AC5         B               2x faster\n",
      "4   0.940160     AC6         B                The same\n",
      "5   1.399726     AC7         B                The same\n",
      "6   0.500454     AN1         A             1.5x slower\n",
      "7   0.229087     AN2         B  Over 2x slower or more\n",
      "8   1.978811     LH1         A             1.5x faster\n",
      "9   0.235222     LH2         B  Over 2x slower or more\n",
      "10  1.647177     LH3         A             1.5x faster\n",
      "11  0.363464     LH4         B  Over 2x slower or more\n"
     ]
    },
    {
     "name": "stderr",
     "output_type": "stream",
     "text": [
      "C:\\Users\\aurel\\AppData\\Local\\Packages\\PythonSoftwareFoundation.Python.3.9_qbz5n2kfra8p0\\LocalCache\\local-packages\\Python39\\site-packages\\seaborn\\_core.py:1225: FutureWarning: is_categorical_dtype is deprecated and will be removed in a future version. Use isinstance(dtype, CategoricalDtype) instead\n",
      "  if pd.api.types.is_categorical_dtype(vector):\n",
      "C:\\Users\\aurel\\AppData\\Local\\Packages\\PythonSoftwareFoundation.Python.3.9_qbz5n2kfra8p0\\LocalCache\\local-packages\\Python39\\site-packages\\seaborn\\categorical.py:253: FutureWarning: The default of observed=False is deprecated and will be changed to True in a future version of pandas. Pass observed=False to retain current behavior or observed=True to adopt the future default and silence this warning.\n",
      "  grouped_vals = vals.groupby(grouper)\n",
      "C:\\Users\\aurel\\AppData\\Local\\Packages\\PythonSoftwareFoundation.Python.3.9_qbz5n2kfra8p0\\LocalCache\\local-packages\\Python39\\site-packages\\seaborn\\categorical.py:253: FutureWarning: The default of observed=False is deprecated and will be changed to True in a future version of pandas. Pass observed=False to retain current behavior or observed=True to adopt the future default and silence this warning.\n",
      "  grouped_vals = vals.groupby(grouper)\n"
     ]
    },
    {
     "data": {
      "image/png": "[encoded data removed]",
      "text/plain": [
       "<Figure size 720x432 with 1 Axes>"
      ]
     },
     "metadata": {
      "needs_background": "light"
     },
     "output_type": "display_data"
    }
   ],
   "source": [
    "import seaborn as sns\n",
    "import matplotlib.pyplot as plt\n",
    "#Observed Speedups in travelling the supermarket\n",
    "speedups = pd.DataFrame()\n",
    "speedups['speedups'] = first_run['adjusted_time_shopping']/second_run['adjusted_time_shopping']\n",
    "speedups[['user_id','test_mode']] = first_run[['user_id','test_mode']]\n",
    "\n",
    "# Define bin bounds\n",
    "bin_bounds = [0,0.5,0.7,1.4,2,4]\n",
    "\n",
    "# Create a new column for bins\n",
    "speedups['bin'] = pd.cut(speedups['speedups'], bins=bin_bounds, labels=['Over 2x slower or more', '1.5x slower', 'The same', '1.5x faster','2x faster'])\n",
    "print(speedups)\n",
    "# Plot the bar chart\n",
    "plt.figure(figsize=(10, 6))\n",
    "sns.countplot(x='bin', hue='test_mode', data=speedups, palette={'A': 'blue', 'B': 'orange'})\n",
    "plt.title('Speedup Distribution by Test Mode')\n",
    "plt.xlabel('Speedup Bins')\n",
    "plt.ylabel('Count')\n",
    "plt.show()"
   ]
  },
  {
   "cell_type": "code",
   "execution_count": 264,
   "metadata": {},
   "outputs": [
    {
     "name": "stderr",
     "output_type": "stream",
     "text": [
      "C:\\Users\\aurel\\AppData\\Local\\Packages\\PythonSoftwareFoundation.Python.3.9_qbz5n2kfra8p0\\LocalCache\\local-packages\\Python39\\site-packages\\seaborn\\_core.py:1225: FutureWarning: is_categorical_dtype is deprecated and will be removed in a future version. Use isinstance(dtype, CategoricalDtype) instead\n",
      "  if pd.api.types.is_categorical_dtype(vector):\n",
      "C:\\Users\\aurel\\AppData\\Local\\Packages\\PythonSoftwareFoundation.Python.3.9_qbz5n2kfra8p0\\LocalCache\\local-packages\\Python39\\site-packages\\seaborn\\_core.py:1225: FutureWarning: is_categorical_dtype is deprecated and will be removed in a future version. Use isinstance(dtype, CategoricalDtype) instead\n",
      "  if pd.api.types.is_categorical_dtype(vector):\n"
     ]
    },
    {
     "data": {
      "image/png": "[encoded data removed]",
      "text/plain": [
       "<Figure size 720x432 with 1 Axes>"
      ]
     },
     "metadata": {
      "needs_background": "light"
     },
     "output_type": "display_data"
    },
    {
     "name": "stderr",
     "output_type": "stream",
     "text": [
      "C:\\Users\\aurel\\AppData\\Local\\Packages\\PythonSoftwareFoundation.Python.3.9_qbz5n2kfra8p0\\LocalCache\\local-packages\\Python39\\site-packages\\seaborn\\_core.py:1225: FutureWarning: is_categorical_dtype is deprecated and will be removed in a future version. Use isinstance(dtype, CategoricalDtype) instead\n",
      "  if pd.api.types.is_categorical_dtype(vector):\n",
      "C:\\Users\\aurel\\AppData\\Local\\Packages\\PythonSoftwareFoundation.Python.3.9_qbz5n2kfra8p0\\LocalCache\\local-packages\\Python39\\site-packages\\seaborn\\_core.py:1225: FutureWarning: is_categorical_dtype is deprecated and will be removed in a future version. Use isinstance(dtype, CategoricalDtype) instead\n",
      "  if pd.api.types.is_categorical_dtype(vector):\n",
      "C:\\Users\\aurel\\AppData\\Local\\Packages\\PythonSoftwareFoundation.Python.3.9_qbz5n2kfra8p0\\LocalCache\\local-packages\\Python39\\site-packages\\seaborn\\_core.py:1225: FutureWarning: is_categorical_dtype is deprecated and will be removed in a future version. Use isinstance(dtype, CategoricalDtype) instead\n",
      "  if pd.api.types.is_categorical_dtype(vector):\n"
     ]
    },
    {
     "data": {
      "image/png": "[encoded data removed]",
      "text/plain": [
       "<Figure size 720x432 with 1 Axes>"
      ]
     },
     "metadata": {
      "needs_background": "light"
     },
     "output_type": "display_data"
    }
   ],
   "source": [
    "intro_quest = pd.read_csv('Introduction Questionnaire.csv')\n",
    "intro_quest_cat = pd.read_csv('Introduction Questionnaire Cat.csv') \n",
    "\n",
    "age_mapping = {\n",
    "    'Menys de 18': 'Under 18',\n",
    "    'De 18 a 25': '18-25',\n",
    "    'De 26 a 33': '26-33',\n",
    "    'De 34 a 40': '34-40',\n",
    "    'De 41 a 50': '41-50',\n",
    "    'De 51 a 60': '51-60',\n",
    "    'De 60 a 70': '60-70',\n",
    "    'Més de 70': 'More than 70'\n",
    "}\n",
    "\n",
    "#AGE \n",
    "intro_quest_cat[\"Edat:\"] = intro_quest_cat[\"Edat:\"].replace(age_mapping)\n",
    "ages = pd.concat([intro_quest_cat['Edat:'], intro_quest['AGE']], axis=0)\n",
    "category_order = ['Under 18', '18-25', '26-33', '34-40', '41-50', '51-60', '60-70', 'More than 70']\n",
    "plt.figure(figsize=(10, 6))\n",
    "sns.countplot(x=ages, data=ages, palette='viridis', order=category_order)\n",
    "plt.title('Distribution of Ages')\n",
    "plt.xlabel('Category')\n",
    "plt.ylabel('Count')\n",
    "plt.show()\n",
    "\n",
    "intro_quest_cat[\"Gènere:\"] = intro_quest_cat[\"Gènere:\"].replace({'Home':'Male', 'Dona':'Female'})\n",
    "genders = pd.concat([intro_quest_cat['Gènere:'], intro_quest['GENDER']], axis=0)\n",
    "plt.figure(figsize=(10, 6))\n",
    "sns.countplot(x=genders, data=genders, palette='viridis')\n",
    "plt.title('Distribution of Genders')\n",
    "plt.xlabel('Category')\n",
    "plt.ylabel('Count')\n",
    "plt.show()"
   ]
  },
  {
   "cell_type": "code",
   "execution_count": null,
   "metadata": {},
   "outputs": [],
   "source": [
    "#after_quest = pd.read_csv('After Questionnaire.csv')"
   ]
  }
 ],
 "metadata": {
  "kernelspec": {
   "display_name": "Python 3",
   "language": "python",
   "name": "python3"
  },
  "language_info": {
   "codemirror_mode": {
    "name": "ipython",
    "version": 3
   },
   "file_extension": ".py",
   "mimetype": "text/x-python",
   "name": "python",
   "nbconvert_exporter": "python",
   "pygments_lexer": "ipython3",
   "version": "3.9.13"
  }
 },
 "nbformat": 4,
 "nbformat_minor": 2
}

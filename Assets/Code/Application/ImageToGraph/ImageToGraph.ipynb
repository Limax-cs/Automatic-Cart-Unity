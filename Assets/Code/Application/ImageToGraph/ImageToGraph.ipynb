{
 "cells": [
  {
   "cell_type": "code",
   "execution_count": 1,
   "metadata": {},
   "outputs": [],
   "source": [
    "from PIL import Image\n",
    "import numpy as np\n",
    "import networkx as nx\n",
    "from utils import *"
   ]
  },
  {
   "cell_type": "code",
   "execution_count": 3,
   "metadata": {},
   "outputs": [],
   "source": [
    "say('stai zitto', to_file=False)"
   ]
  },
  {
   "cell_type": "code",
   "execution_count": 3,
   "metadata": {},
   "outputs": [],
   "source": [
    "dir = 'C:/Users/aurel/Downloads/HS23/CIR/Automatic-Cart/ImageToGraph/'\n",
    "imagedir = dir+'Model3.png'\n",
    "image = np.array(Image.open(imagedir).convert('RGB')) #Remember that it reads row by row\n",
    "image = image[10:210,10:210,:] #Keep only the superkarmet plan inside the frame\n",
    "#node_image = image.reshape(-1,3) #Reshape the image shuch that the inidices are 1D\n",
    "graph = create_graph(image)"
   ]
  },
  {
   "cell_type": "code",
   "execution_count": 6,
   "metadata": {},
   "outputs": [
    {
     "data": {
      "image/png": "[encoded data removed]",
      "text/plain": [
       "<PIL.Image.Image image mode=RGB size=300x300 at 0x21E4D181DC0>"
      ]
     },
     "execution_count": 6,
     "metadata": {},
     "output_type": "execute_result"
    }
   ],
   "source": [
    "start = (92,107)\n",
    "end = (110,105)\n",
    "#Note, I am providing the index from aseprite and converting it to the numpy one\n",
    "#start = (start[1] - 10, start[0] - 10)\n",
    "#end = (end[1] - 10, end[0] - 10)\n",
    "path = nx.dijkstra_path(graph, start, end)\n",
    "draw_path(image, [path])"
   ]
  },
  {
   "cell_type": "code",
   "execution_count": 7,
   "metadata": {},
   "outputs": [
    {
     "data": {
      "image/png": "[encoded data removed]",
      "text/plain": [
       "<PIL.Image.Image image mode=RGB size=300x300 at 0x21E3C09A160>"
      ]
     },
     "execution_count": 7,
     "metadata": {},
     "output_type": "execute_result"
    }
   ],
   "source": [
    "items = [\"Biscuits\",\"Eclairs\",\"Meatballs\",\"Rice milk\",\"Frozen clams\",\"Herring\",\"Bell peppers\",]\n",
    "     \n",
    "items,coordinates,lenght = hamiltonian_path(graph, items) #For now the output will still be in coordinates and not items\n",
    "\n",
    "paths = [nx.dijkstra_path(graph, coordinates[i], coordinates[i+1]) for i in range(len(coordinates)-1)]\n",
    "draw_path(image, paths)"
   ]
  },
  {
   "cell_type": "code",
   "execution_count": 4,
   "metadata": {},
   "outputs": [
    {
     "name": "stdout",
     "output_type": "stream",
     "text": [
      "1.5603585243225098\n",
      "1.7348318099975586\n"
     ]
    }
   ],
   "source": [
    "import random\n",
    "import time\n",
    "\n",
    "item_coordinate = get_coordinates(\"Biscuits\", graph, False)[0]\n",
    "\n",
    "num_iterations = 2  # Change this to the desired number of iterations\n",
    "times = []\n",
    "for _ in range(num_iterations):\n",
    "    # Get a random node from the graph\n",
    "    random_node = random.choice(list(graph.nodes()))\n",
    "    start_time = time.time()\n",
    "    directions_to_next_item(graph, image, random_node, item_coordinate)\n",
    "    # Record the ending time\n",
    "    end_time = time.time()\n",
    "\n",
    "    # Calculate the elapsed time\n",
    "    elapsed_time = end_time - start_time\n",
    "    times.append(elapsed_time)\n",
    "    # Wait for 2 seconds\n",
    "    #time.sleep(5)\n",
    "print(np.mean(times))\n",
    "print(np.max(times))"
   ]
  },
  {
   "cell_type": "code",
   "execution_count": 15,
   "metadata": {},
   "outputs": [
    {
     "name": "stdout",
     "output_type": "stream",
     "text": [
      "False\n"
     ]
    }
   ],
   "source": [
    "arr = np.array([255,255,255]) \n",
    "print(np.all(arr==255))"
   ]
  },
  {
   "cell_type": "code",
   "execution_count": 19,
   "metadata": {},
   "outputs": [
    {
     "name": "stdout",
     "output_type": "stream",
     "text": [
      "Image processed and saved as 'output_image.png'.\n",
      "Image processed and saved as 'output_image.png'.\n",
      "Image processed and saved as 'output_image.png'.\n",
      "Image processed and saved as 'output_image.png'.\n",
      "Image processed and saved as 'output_image.png'.\n",
      "Image processed and saved as 'output_image.png'.\n",
      "Image processed and saved as 'output_image.png'.\n",
      "Image processed and saved as 'output_image.png'.\n",
      "Image processed and saved as 'output_image.png'.\n",
      "Image processed and saved as 'output_image.png'.\n",
      "Image processed and saved as 'output_image.png'.\n",
      "Image processed and saved as 'output_image.png'.\n",
      "Image processed and saved as 'output_image.png'.\n",
      "Image processed and saved as 'output_image.png'.\n",
      "Image processed and saved as 'output_image.png'.\n",
      "Image processed and saved as 'output_image.png'.\n",
      "Image processed and saved as 'output_image.png'.\n",
      "Image processed and saved as 'output_image.png'.\n",
      "Image processed and saved as 'output_image.png'.\n",
      "Image processed and saved as 'output_image.png'.\n",
      "Image processed and saved as 'output_image.png'.\n",
      "Image processed and saved as 'output_image.png'.\n",
      "Image processed and saved as 'output_image.png'.\n",
      "Image processed and saved as 'output_image.png'.\n",
      "Image processed and saved as 'output_image.png'.\n",
      "Image processed and saved as 'output_image.png'.\n",
      "Image processed and saved as 'output_image.png'.\n",
      "Image processed and saved as 'output_image.png'.\n",
      "Image processed and saved as 'output_image.png'.\n",
      "Image processed and saved as 'output_image.png'.\n",
      "Image processed and saved as 'output_image.png'.\n",
      "Image processed and saved as 'output_image.png'.\n",
      "Image processed and saved as 'output_image.png'.\n",
      "Image processed and saved as 'output_image.png'.\n",
      "Image processed and saved as 'output_image.png'.\n",
      "Image processed and saved as 'output_image.png'.\n",
      "Image processed and saved as 'output_image.png'.\n",
      "Image processed and saved as 'output_image.png'.\n",
      "Image processed and saved as 'output_image.png'.\n",
      "Image processed and saved as 'output_image.png'.\n",
      "Image processed and saved as 'output_image.png'.\n",
      "Image processed and saved as 'output_image.png'.\n",
      "Image processed and saved as 'output_image.png'.\n",
      "Image processed and saved as 'output_image.png'.\n",
      "Image processed and saved as 'output_image.png'.\n",
      "Image processed and saved as 'output_image.png'.\n",
      "Image processed and saved as 'output_image.png'.\n",
      "Image processed and saved as 'output_image.png'.\n",
      "Image processed and saved as 'output_image.png'.\n",
      "Image processed and saved as 'output_image.png'.\n",
      "Image processed and saved as 'output_image.png'.\n",
      "Image processed and saved as 'output_image.png'.\n",
      "Image processed and saved as 'output_image.png'.\n",
      "Image processed and saved as 'output_image.png'.\n",
      "Image processed and saved as 'output_image.png'.\n",
      "Image processed and saved as 'output_image.png'.\n",
      "Image processed and saved as 'output_image.png'.\n",
      "Image processed and saved as 'output_image.png'.\n",
      "Image processed and saved as 'output_image.png'.\n",
      "Image processed and saved as 'output_image.png'.\n",
      "Image processed and saved as 'output_image.png'.\n",
      "Image processed and saved as 'output_image.png'.\n",
      "Image processed and saved as 'output_image.png'.\n",
      "Image processed and saved as 'output_image.png'.\n",
      "Image processed and saved as 'output_image.png'.\n",
      "Image processed and saved as 'output_image.png'.\n",
      "Image processed and saved as 'output_image.png'.\n",
      "Image processed and saved as 'output_image.png'.\n",
      "Image processed and saved as 'output_image.png'.\n",
      "Image processed and saved as 'output_image.png'.\n",
      "Image processed and saved as 'output_image.png'.\n",
      "Image processed and saved as 'output_image.png'.\n",
      "Image processed and saved as 'output_image.png'.\n",
      "Image processed and saved as 'output_image.png'.\n",
      "Image processed and saved as 'output_image.png'.\n",
      "Image processed and saved as 'output_image.png'.\n",
      "Image processed and saved as 'output_image.png'.\n",
      "Image processed and saved as 'output_image.png'.\n",
      "Image processed and saved as 'output_image.png'.\n",
      "Image processed and saved as 'output_image.png'.\n",
      "Image processed and saved as 'output_image.png'.\n",
      "Image processed and saved as 'output_image.png'.\n",
      "Image processed and saved as 'output_image.png'.\n",
      "Image processed and saved as 'output_image.png'.\n",
      "Image processed and saved as 'output_image.png'.\n",
      "Image processed and saved as 'output_image.png'.\n",
      "Image processed and saved as 'output_image.png'.\n",
      "Image processed and saved as 'output_image.png'.\n",
      "Image processed and saved as 'output_image.png'.\n",
      "Image processed and saved as 'output_image.png'.\n",
      "Image processed and saved as 'output_image.png'.\n",
      "Image processed and saved as 'output_image.png'.\n",
      "Image processed and saved as 'output_image.png'.\n",
      "Image processed and saved as 'output_image.png'.\n",
      "Image processed and saved as 'output_image.png'.\n",
      "Image processed and saved as 'output_image.png'.\n",
      "Image processed and saved as 'output_image.png'.\n",
      "Image processed and saved as 'output_image.png'.\n",
      "Image processed and saved as 'output_image.png'.\n",
      "Image processed and saved as 'output_image.png'.\n",
      "Image processed and saved as 'output_image.png'.\n",
      "Image processed and saved as 'output_image.png'.\n",
      "Image processed and saved as 'output_image.png'.\n",
      "Image processed and saved as 'output_image.png'.\n",
      "Image processed and saved as 'output_image.png'.\n",
      "Image processed and saved as 'output_image.png'.\n",
      "Image processed and saved as 'output_image.png'.\n",
      "Image processed and saved as 'output_image.png'.\n",
      "Image processed and saved as 'output_image.png'.\n",
      "Image processed and saved as 'output_image.png'.\n",
      "Image processed and saved as 'output_image.png'.\n",
      "Image processed and saved as 'output_image.png'.\n",
      "Image processed and saved as 'output_image.png'.\n",
      "Image processed and saved as 'output_image.png'.\n",
      "Image processed and saved as 'output_image.png'.\n",
      "Image processed and saved as 'output_image.png'.\n",
      "Image processed and saved as 'output_image.png'.\n",
      "Image processed and saved as 'output_image.png'.\n",
      "Image processed and saved as 'output_image.png'.\n",
      "Image processed and saved as 'output_image.png'.\n",
      "Image processed and saved as 'output_image.png'.\n",
      "Image processed and saved as 'output_image.png'.\n",
      "Image processed and saved as 'output_image.png'.\n",
      "Image processed and saved as 'output_image.png'.\n",
      "Image processed and saved as 'output_image.png'.\n",
      "Image processed and saved as 'output_image.png'.\n",
      "Image processed and saved as 'output_image.png'.\n",
      "Image processed and saved as 'output_image.png'.\n",
      "Image processed and saved as 'output_image.png'.\n",
      "Image processed and saved as 'output_image.png'.\n",
      "Image processed and saved as 'output_image.png'.\n",
      "Image processed and saved as 'output_image.png'.\n",
      "Image processed and saved as 'output_image.png'.\n",
      "Image processed and saved as 'output_image.png'.\n",
      "Image processed and saved as 'output_image.png'.\n",
      "Image processed and saved as 'output_image.png'.\n",
      "Image processed and saved as 'output_image.png'.\n",
      "Image processed and saved as 'output_image.png'.\n",
      "Image processed and saved as 'output_image.png'.\n",
      "Image processed and saved as 'output_image.png'.\n",
      "Image processed and saved as 'output_image.png'.\n",
      "Image processed and saved as 'output_image.png'.\n",
      "Image processed and saved as 'output_image.png'.\n",
      "Image processed and saved as 'output_image.png'.\n",
      "Image processed and saved as 'output_image.png'.\n",
      "Image processed and saved as 'output_image.png'.\n",
      "Image processed and saved as 'output_image.png'.\n",
      "Image processed and saved as 'output_image.png'.\n",
      "Image processed and saved as 'output_image.png'.\n",
      "Image processed and saved as 'output_image.png'.\n",
      "Image processed and saved as 'output_image.png'.\n",
      "Image processed and saved as 'output_image.png'.\n",
      "Image processed and saved as 'output_image.png'.\n",
      "Image processed and saved as 'output_image.png'.\n",
      "Image processed and saved as 'output_image.png'.\n",
      "Image processed and saved as 'output_image.png'.\n",
      "Image processed and saved as 'output_image.png'.\n",
      "Image processed and saved as 'output_image.png'.\n",
      "Image processed and saved as 'output_image.png'.\n",
      "Image processed and saved as 'output_image.png'.\n",
      "Image processed and saved as 'output_image.png'.\n",
      "Image processed and saved as 'output_image.png'.\n",
      "Image processed and saved as 'output_image.png'.\n",
      "Image processed and saved as 'output_image.png'.\n",
      "Image processed and saved as 'output_image.png'.\n",
      "Image processed and saved as 'output_image.png'.\n",
      "Image processed and saved as 'output_image.png'.\n",
      "Image processed and saved as 'output_image.png'.\n",
      "Image processed and saved as 'output_image.png'.\n",
      "Image processed and saved as 'output_image.png'.\n",
      "Image processed and saved as 'output_image.png'.\n",
      "Image processed and saved as 'output_image.png'.\n",
      "Image processed and saved as 'output_image.png'.\n",
      "Image processed and saved as 'output_image.png'.\n",
      "Image processed and saved as 'output_image.png'.\n",
      "Image processed and saved as 'output_image.png'.\n",
      "Image processed and saved as 'output_image.png'.\n",
      "Image processed and saved as 'output_image.png'.\n",
      "Image processed and saved as 'output_image.png'.\n",
      "Image processed and saved as 'output_image.png'.\n",
      "Image processed and saved as 'output_image.png'.\n",
      "Image processed and saved as 'output_image.png'.\n",
      "Image processed and saved as 'output_image.png'.\n",
      "Image processed and saved as 'output_image.png'.\n",
      "Image processed and saved as 'output_image.png'.\n",
      "Image processed and saved as 'output_image.png'.\n",
      "Image processed and saved as 'output_image.png'.\n",
      "Image processed and saved as 'output_image.png'.\n",
      "Image processed and saved as 'output_image.png'.\n",
      "Image processed and saved as 'output_image.png'.\n",
      "Image processed and saved as 'output_image.png'.\n",
      "Image processed and saved as 'output_image.png'.\n",
      "Image processed and saved as 'output_image.png'.\n",
      "Image processed and saved as 'output_image.png'.\n",
      "Image processed and saved as 'output_image.png'.\n",
      "Image processed and saved as 'output_image.png'.\n",
      "Image processed and saved as 'output_image.png'.\n",
      "Image processed and saved as 'output_image.png'.\n",
      "Image processed and saved as 'output_image.png'.\n",
      "Image processed and saved as 'output_image.png'.\n"
     ]
    }
   ],
   "source": [
    "def replace_color_with_black(pixels, target_color):\n",
    "    width, height,_ = pixels.shape\n",
    "    \n",
    "\n",
    "    # Loop through each pixel\n",
    "    for x in range(width):\n",
    "        for y in range(height):\n",
    "            current_color = pixels[x, y]\n",
    "            if tuple(current_color) == target_color:\n",
    "                pixels[x, y] = [0, 0, 0]  # Replace with black\n",
    "            else:\n",
    "                pixels[x, y] = [255, 255, 255]  # Turn others to white\n",
    "\n",
    "        # Save the modified image\n",
    "    image = Image.fromarray(pixels)\n",
    "    image.save(\"output_image.png\")\n",
    "    print(\"Image processed and saved as 'output_image.png'.\")\n",
    "\n",
    "\n",
    "# Example usage:\n",
    "# Specify the path to your image and the target color to replace\n",
    "target_color = (70,70,70)  # Example: Replace red (255, 0, 0) with black\n",
    "replace_color_with_black(image, target_color)"
   ]
  },
  {
   "cell_type": "code",
   "execution_count": 164,
   "metadata": {},
   "outputs": [
    {
     "data": {
      "image/png": "[encoded data removed]",
      "text/plain": [
       "<Figure size 432x288 with 1 Axes>"
      ]
     },
     "metadata": {
      "needs_background": "light"
     },
     "output_type": "display_data"
    }
   ],
   "source": [
    "import matplotlib.pyplot as plt\n",
    "\n",
    "lengths_perm = [79.71875, 111.796875, 170.609375, 176.640625, 176.921875, 179.171875, 186.375, 205.1484375, 221.1328125, 232.2265625]\n",
    "length_greedy = [79.71875, 112.390625, 196.234375, 176.640625, 176.921875, 179.171875, 186.375, 205.1484375, 222.8828125, 233.9765625]\n",
    "x = list(range(2,12))\n",
    "\n",
    "# Create a figure and axis\n",
    "fig, ax = plt.subplots()\n",
    "\n",
    "# Plot the first dataset\n",
    "ax.plot(x, lengths_perm, label='Exact', marker='o', linestyle='-')\n",
    "\n",
    "# Plot the second dataset\n",
    "ax.plot(x, length_greedy, label='Approximated', marker='s', linestyle='--')\n",
    "\n",
    "# Add labels and a legend\n",
    "ax.set_xlabel('Number of nodes')\n",
    "ax.set_ylabel('Shortest path length')\n",
    "ax.set_title('Length of shortest Hamiltonian')\n",
    "ax.legend()\n",
    "\n",
    "# Display the plot\n",
    "plt.show()"
   ]
  },
  {
   "cell_type": "code",
   "execution_count": 165,
   "metadata": {},
   "outputs": [
    {
     "data": {
      "image/png": "[encoded data removed]",
      "text/plain": [
       "<Figure size 432x288 with 1 Axes>"
      ]
     },
     "metadata": {
      "needs_background": "light"
     },
     "output_type": "display_data"
    }
   ],
   "source": [
    "lengths_perm = [0.03599667549133301, 0.03659677505493164, 0.051003217697143555, 0.05908346176147461, 0.06891369819641113, 0.07300186157226562, 0.11011624336242676, 0.250058650970459, 1.6385531425476074, 16.322131156921387]\n",
    "length_greedy = [0.03799772262573242, 0.05859827995300293, 0.05594515800476074, 0.060080766677856445, 0.07491755485534668, 0.07799625396728516, 0.08000040054321289, 0.09199905395507812, 0.10014867782592773, 0.11034750938415527]\n",
    "x = list(range(2,12))\n",
    "\n",
    "# Create a figure and axis\n",
    "fig, ax = plt.subplots()\n",
    "\n",
    "# Plot the first dataset\n",
    "ax.plot(x, lengths_perm, label='Exact', marker='o', linestyle='-')\n",
    "\n",
    "# Plot the second dataset\n",
    "ax.plot(x, length_greedy, label='Approximated', marker='s', linestyle='--')\n",
    "\n",
    "# Add labels and a legend\n",
    "ax.set_xlabel('Number of nodes')\n",
    "ax.set_ylabel('Compiutation time in seconds')\n",
    "ax.set_title('Time for shortest Hamiltonian')\n",
    "ax.legend()\n",
    "\n",
    "# Display the plot\n",
    "plt.show()"
   ]
  }
 ],
 "metadata": {
  "kernelspec": {
   "display_name": "Python 3",
   "language": "python",
   "name": "python3"
  },
  "language_info": {
   "codemirror_mode": {
    "name": "ipython",
    "version": 3
   },
   "file_extension": ".py",
   "mimetype": "text/x-python",
   "name": "python",
   "nbconvert_exporter": "python",
   "pygments_lexer": "ipython3",
   "version": "3.9.13"
  }
 },
 "nbformat": 4,
 "nbformat_minor": 2
}
